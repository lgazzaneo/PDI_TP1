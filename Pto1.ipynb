{
  "metadata": {
    "kernelspec": {
      "name": "xpython",
      "display_name": "Python 3.13 (XPython)",
      "language": "python"
    },
    "language_info": {
      "file_extension": ".py",
      "mimetype": "text/x-python",
      "name": "python",
      "version": "3.13.1"
    }
  },
  "nbformat_minor": 5,
  "nbformat": 4,
  "cells": [
    {
      "id": "7357ca97-61ee-43f8-8fac-114ce2be5ca2",
      "cell_type": "code",
      "source": "import math\n\ndensidad_conos = 150000 \narea = 1.5 * 1.5 # mm2\ndistancia = 30 # cm\n\narea_cono = 1 / densidad_conos\n\n# Asumiendo que el cono tiene forma cuadrada, el tamaño ideal de un cono sería:\n\ntamaño_cono = math.sqrt(area_cono) # mm\n\n# Para calcular el tamaño del menor punto visible, utilizamos la relacion de triangulos \n# similares entre el tamaño en la pantalla y el tamaño en la retina. La distancia focal \n# del ojo humano es aproximadamente 17 mm, que es una valor promedio basado en la curvatura\n# y el poder refractivo de las lentes oculares.\n# El tamaño del punto en la pantalla se puede calcular como:\n\ndistancia_focal = 17 # mm\n\ntamaño_punto = (tamaño_cono * distancia) / distancia_focal # mm\n\n# Finalmente comparamos el tamaño del punto con el tamaño de un pixel en la pantalla.\n# Dado que el tamaño de un pixel en una pantalla típica es de 0.26 mm, podemos determinar\n# si el tamaño del punto es visible o no.\n\ntamaño_pixel = 0.26 # mm\n\nif tamaño_punto < tamaño_pixel:\n    print(\"El tamaño del punto es menor que el tamaño de un pixel, por lo tanto no es visible.\")\nelse:\n    print(\"El tamaño del punto es mayor o igual que el tamaño de un pixel, por lo tanto es visible.\")\n",
      "metadata": {
        "trusted": true
      },
      "outputs": [
        {
          "name": "stdout",
          "output_type": "stream",
          "text": "El tamaño del punto es menor que el tamaño de un pixel, por lo tanto no es visible.\n"
        }
      ],
      "execution_count": 1
    }
  ]
}