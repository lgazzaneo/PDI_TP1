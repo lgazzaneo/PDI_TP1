{
  "metadata": {
    "kernelspec": {
      "name": "python",
      "display_name": "Python (Pyodide)",
      "language": "python"
    },
    "language_info": {
      "codemirror_mode": {
        "name": "python",
        "version": 3
      },
      "file_extension": ".py",
      "mimetype": "text/x-python",
      "name": "python",
      "nbconvert_exporter": "python",
      "pygments_lexer": "ipython3",
      "version": "3.8"
    }
  },
  "nbformat_minor": 4,
  "nbformat": 4,
  "cells": [
    {
      "cell_type": "code",
      "source": "\"\"¿Qué es un OLPF (Optical Low Pass Filter)?\n\nTambién se lo llama filtro anti-aliasing (AA filter) o filtro pasa-bajas óptico. \nVa situado justo sobre el sensor (o muy cerca), y produce un ligero desenfoque óptico antes de que la luz llegue al sensor. \nSu propósito principal es reducir aliasing y artefactos de moiré. Estos aparecen cuando detalles muy finos \n(con alta frecuencia espacial) en la escena interactúan con la rejilla de píxeles del sensor o con los patrones de \nfiltros de color (Bayer u otro). El sensor “muestrea” la imagen, y sin este filtro, algunas frecuencias podrían plegarse \n(“alias”) o producir moiré. \n\nVentajas:\n\nMenos artefactos visuales como moiré.\nMejores resultados “limpios” cuando la escena tiene texturas finas como telas con patrón, materiales tejidos, \nedificios con líneas muy juntas, etc. \n\nDesventajas:\n\nPierde algo de nitidez / resolución óptica, porque el filtro desenfoca ligeramente. \nEn sensores modernos de alta resolución, a veces ese desenfoque no justifica su efecto si el sensor ya discrimina bien \nesas frecuencias; fotógrafos prefieren prescindir del filtro para maximizar detalle. \n\n¿Todas las cámaras lo tienen?\n\nNo, no todas las cámaras lo tienen. Hay modelos que lo incluyen, otros que lo han quitado, y otros que permiten activarlo \no desactivarlo (o usar versiones intercambiables). \nAlgunas razones:\nCuando la resolución del sensor es muy alta y los píxeles son muy pequeños, el efecto de aliasing/moires disminuye, \nasí que para ganar nitidez algunos fabricantes deciden omitir el filtro. \nAlgunos sensores con filtros de color especiales o diseños que dificultan el moiré ya mitigado \n(por ejemplo los sensores Fujifilm X-Trans) declaran que “no necesitan” OLPF. \nEn cámaras cinematográficas / de video, también puede usarse un filtro óptico desmontable para conservar versatilidad. \n\n\nEjemplos concretos:\n\nNikon D800 vs D800E\tEl D800 tiene filtro AA, el D800E lo “elimina” (o lo neutraliza) para mayor nitidez. \nSony α7R II\tNo incluye OLPF en muchos modelos de alta resolución. \nFujifilm con sensor X-Trans\tAlgunos modelos dicen que no necesitan OLPF gracias al diseño de su filtro de color aleatorio. \nLumix S1H vs S5 II\tEl S1H incluye OLPF, el S5 II no (o versiones sin filtro) lo que puede dar más nitidez pero más \nriesgo de moiré. \nCanon EOS 5DS vs 5DS R\tUno con filtro (5DS), otro sin (5DS R) para ofrecer ambas opciones a los usuarios. \n\"\"\"",
      "metadata": {
        "trusted": true
      },
      "outputs": [],
      "execution_count": null
    }
  ]
}