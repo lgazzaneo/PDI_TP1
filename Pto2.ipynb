{
  "metadata": {
    "kernelspec": {
      "name": "xpython",
      "display_name": "Python 3.13 (XPython)",
      "language": "python"
    },
    "language_info": {
      "file_extension": ".py",
      "mimetype": "text/x-python",
      "name": "python",
      "version": "3.13.1"
    }
  },
  "nbformat_minor": 5,
  "nbformat": 4,
  "cells": [
    {
      "id": "0557c922-0995-4b27-a7c5-0b6157569e36",
      "cell_type": "code",
      "source": "# En este ejercicio, vamos a calcular cuantos milimetros representa uina distancia de un pixelsobre una imagen si\n# es tomada con una camara de 1 megapixel a un metro de distancia. Ademas, el sensor tiene un area de 10x10 mm y una\n# distancia focal de 35 mm. Tambien sabemos que es un sensor CCD cuadrado. Este esta formado por un arreglo de\n# 1000x1000 pixels.\n\n# Primero, calculamos el tamaño de un pixel en milimetros:\n\ndistancia = 1000  # distancia en mm (1 metro = 1000 mm)\n\ntamaño_sensor = 10  # tamaño del sensor en mm\ntamaño_pixel = tamaño_sensor / distancia  # tamaño de un pixel en mm\n\n# Despues, cada pixel mide 0.01 x 0.01 mm en el sensor CCD. Ahora, calculamos el tamaño de un pixel en la imagen:\n\ndistancia_focal = 35  # distancia focal en mm\ntamaño_pixel_imagen = (tamaño_pixel * distancia) / distancia_focal  # tamaño de un pixel en la imagen en mm\n\nprint(f\"El tamaño de un pixel en la imagen es: {tamaño_pixel_imagen:.3f} mm\")",
      "metadata": {
        "trusted": true
      },
      "outputs": [
        {
          "name": "stdout",
          "output_type": "stream",
          "text": "El tamaño de un pixel en la imagen es: 0.286 mm\n"
        }
      ],
      "execution_count": 1
    }
  ]
}